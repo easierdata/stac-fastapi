{
 "cells": [
  {
   "attachments": {},
   "cell_type": "markdown",
   "metadata": {},
   "source": [
    "## Imports\n"
   ]
  },
  {
   "cell_type": "code",
   "execution_count": 14,
   "metadata": {},
   "outputs": [],
   "source": [
    "import numpy as np\n",
    "import rasterio\n",
    "import subprocess\n",
    "import matplotlib.pyplot as plt\n",
    "from io import BytesIO\n",
    "import matplotlib.colors as mcolors\n",
    "from pystac_client import Client\n",
    "from IPython.display import Image\n",
    "from PIL import Image as pil_image"
   ]
  },
  {
   "attachments": {},
   "cell_type": "markdown",
   "metadata": {},
   "source": [
    "## Fetch Landsat Scene from Washington D.C. Area"
   ]
  },
  {
   "cell_type": "code",
   "execution_count": 2,
   "metadata": {},
   "outputs": [
    {
     "data": {
      "text/plain": [
       "1"
      ]
     },
     "execution_count": 2,
     "metadata": {},
     "output_type": "execute_result"
    }
   ],
   "source": [
    "# Connect to STAC API and search for Landsat 9 imagery\n",
    "catalog = Client.open(\"http://ec2-54-172-212-55.compute-1.amazonaws.com/api/v1/pgstac/\")\n",
    "bbox = [-76.964657, 38.978967, -76.928008, 39.002783]\n",
    "\n",
    "search = catalog.search(\n",
    "    collections=[\"landsat-c2l1\"],\n",
    "    bbox=bbox,\n",
    ")\n",
    "\n",
    "items = search.get_all_items()\n",
    "len(items)"
   ]
  },
  {
   "attachments": {},
   "cell_type": "markdown",
   "metadata": {},
   "source": [
    "## Fetch bands 4 and 5 from the scene (Red and NIR)"
   ]
  },
  {
   "cell_type": "code",
   "execution_count": 3,
   "metadata": {},
   "outputs": [
    {
     "name": "stdout",
     "output_type": "stream",
     "text": [
      "Red band CID: QmTgttqUf7PvZgdSoe71j3njeEKk1hC3h22n2sQmety3To\n",
      "NIR band CID: QmZkWaKSuVhFKtAwNbxSogcT6hXHMksXjhgqLu6AXHSUKq\n"
     ]
    }
   ],
   "source": [
    "item = items[0]\n",
    "# Get red and NIR band assets and access alternate keys\n",
    "red_band_cid = item.assets[\"red\"].extra_fields[\"alternate\"][\"IPFS\"][\"href\"].split(\"/\")[-1]\n",
    "nir_band_cid = item.assets[\"nir08\"].extra_fields[\"alternate\"][\"IPFS\"][\"href\"].split(\"/\")[-1]\n",
    "\n",
    "print(f\"Red band CID: {red_band_cid}\")\n",
    "print(f\"NIR band CID: {nir_band_cid}\")"
   ]
  },
  {
   "attachments": {},
   "cell_type": "markdown",
   "metadata": {},
   "source": [
    "## Helper Functions"
   ]
  },
  {
   "cell_type": "code",
   "execution_count": 4,
   "metadata": {},
   "outputs": [],
   "source": [
    "def load_landsat_band(band: bytes) -> np.ndarray:\n",
    "    with rasterio.MemoryFile(band) as memfile:\n",
    "        with memfile.open() as dataset:\n",
    "            return dataset.read(1)\n",
    "\n",
    "\n",
    "def save_plot_to_buffer(plot: plt.Figure) -> bytes:\n",
    "    buffer = BytesIO()\n",
    "    plot.savefig(buffer, format='png')\n",
    "    buffer.seek(0)\n",
    "    return buffer.getvalue()"
   ]
  },
  {
   "attachments": {},
   "cell_type": "markdown",
   "metadata": {},
   "source": [
    "## Fetch Bands from IPFS"
   ]
  },
  {
   "cell_type": "code",
   "execution_count": 5,
   "metadata": {},
   "outputs": [
    {
     "name": "stderr",
     "output_type": "stream",
     "text": [
      " 82.62 MiB / 82.62 MiB  100.00% 0s\n",
      " 89.73 MiB / 89.73 MiB  100.00% 0sK\n"
     ]
    }
   ],
   "source": [
    "red_band = subprocess.check_output([\"ipfs\", \"cat\", red_band_cid])\n",
    "nir_band = subprocess.check_output([\"ipfs\", \"cat\", nir_band_cid])"
   ]
  },
  {
   "attachments": {},
   "cell_type": "markdown",
   "metadata": {},
   "source": [
    "## Load the bands into a numpy array"
   ]
  },
  {
   "cell_type": "code",
   "execution_count": 7,
   "metadata": {},
   "outputs": [],
   "source": [
    "red_band_4 = load_landsat_band(red_band)\n",
    "nir_band_5 = load_landsat_band(nir_band)"
   ]
  },
  {
   "attachments": {},
   "cell_type": "markdown",
   "metadata": {},
   "source": [
    "## Calculate NDVI"
   ]
  },
  {
   "cell_type": "code",
   "execution_count": 8,
   "metadata": {},
   "outputs": [],
   "source": [
    "eps = 0.0001 # Avoid divide by zero errors\n",
    "ndvi = (nir_band_5 - red_band_4) / (nir_band_5 + red_band_4 + eps)"
   ]
  },
  {
   "attachments": {},
   "cell_type": "markdown",
   "metadata": {},
   "source": [
    "## Plot NDVI"
   ]
  },
  {
   "cell_type": "code",
   "execution_count": null,
   "metadata": {},
   "outputs": [],
   "source": [
    "# Set min and max values for better color differentiation\n",
    "ndvi_min, ndvi_max = -1, 1\n",
    "\n",
    "# Create a custom color map\n",
    "cmap = plt.cm.RdYlGn\n",
    "norm = mcolors.Normalize(vmin=ndvi_min, vmax=ndvi_max)\n",
    "\n",
    "# Plot the NDVI image\n",
    "fig, ax = plt.subplots()\n",
    "im = ax.imshow(ndvi, cmap=cmap, norm=norm)\n",
    "cbar = fig.colorbar(im, ax=ax, label='NDVI', cmap=cmap, norm=norm)\n",
    "ax.set_title('Normalized Difference Vegetation Index (NDVI)')"
   ]
  },
  {
   "attachments": {},
   "cell_type": "markdown",
   "metadata": {},
   "source": [
    "## Save plot to image (png) buffer"
   ]
  },
  {
   "cell_type": "code",
   "execution_count": 10,
   "metadata": {},
   "outputs": [],
   "source": [
    "# Save the plot to a BytesIO buffer\n",
    "plot_buffer = save_plot_to_buffer(fig)"
   ]
  },
  {
   "attachments": {},
   "cell_type": "markdown",
   "metadata": {},
   "source": [
    "## Add plot image to IPFS"
   ]
  },
  {
   "cell_type": "code",
   "execution_count": 12,
   "metadata": {},
   "outputs": [
    {
     "data": {
      "text/plain": [
       "'QmZasRR5ath2hAXApYKwy4droFhiHAPpk4yvBDuKvKRYGE'"
      ]
     },
     "execution_count": 12,
     "metadata": {},
     "output_type": "execute_result"
    }
   ],
   "source": [
    "# Add the image buffer to IPFS and get the hash. The -q flag is used to only return the hash of the added file\n",
    "ipfs_hash = subprocess.check_output([\"ipfs\", \"add\", \"-q\"], input=plot_buffer).decode().strip()\n",
    "ipfs_hash"
   ]
  },
  {
   "attachments": {},
   "cell_type": "markdown",
   "metadata": {},
   "source": [
    "## Fetch plot image from IPFS and display it"
   ]
  },
  {
   "cell_type": "code",
   "execution_count": null,
   "metadata": {},
   "outputs": [],
   "source": [
    "ipfs_plot_png = subprocess.check_output([\"ipfs\", \"cat\", ipfs_hash])\n",
    "img = pil_image.open(BytesIO(ipfs_plot_png))\n",
    "display(img)"
   ]
  }
 ],
 "metadata": {
  "kernelspec": {
   "display_name": ".venv",
   "language": "python",
   "name": "python3"
  },
  "language_info": {
   "codemirror_mode": {
    "name": "ipython",
    "version": 3
   },
   "file_extension": ".py",
   "mimetype": "text/x-python",
   "name": "python",
   "nbconvert_exporter": "python",
   "pygments_lexer": "ipython3",
   "version": "3.11.2"
  },
  "orig_nbformat": 4
 },
 "nbformat": 4,
 "nbformat_minor": 2
}

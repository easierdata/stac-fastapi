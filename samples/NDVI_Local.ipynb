{
 "cells": [
  {
   "attachments": {},
   "cell_type": "markdown",
   "metadata": {},
   "source": [
    "## Imports\n"
   ]
  },
  {
   "cell_type": "code",
   "execution_count": 4,
   "metadata": {},
   "outputs": [],
   "source": [
    "import numpy as np\n",
    "import rasterio\n",
    "from IPython.display import Image\n",
    "import matplotlib.pyplot as plt"
   ]
  },
  {
   "attachments": {},
   "cell_type": "markdown",
   "metadata": {},
   "source": [
    "## Helper Functions"
   ]
  },
  {
   "cell_type": "code",
   "execution_count": 7,
   "metadata": {},
   "outputs": [],
   "source": [
    "def load_raster(path) -> np.ndarray:\n",
    "    with rasterio.open(path) as src:\n",
    "        return src.read(1)"
   ]
  },
  {
   "attachments": {},
   "cell_type": "markdown",
   "metadata": {},
   "source": [
    "## Load the bands into a numpy array"
   ]
  },
  {
   "cell_type": "code",
   "execution_count": null,
   "metadata": {},
   "outputs": [],
   "source": [
    "red_band = load_raster(red_band)\n",
    "nir_band = load_raster(nir_band)"
   ]
  },
  {
   "attachments": {},
   "cell_type": "markdown",
   "metadata": {},
   "source": [
    "## Calculate NDVI"
   ]
  },
  {
   "cell_type": "code",
   "execution_count": null,
   "metadata": {},
   "outputs": [],
   "source": [
    "# Calculate NDVI\n",
    "ndvi = np.where(\n",
    "    (nir_band + red_band) == 0., # Avoid divide by zero errors\n",
    "    0,\n",
    "    (nir_band - red_band) / (nir_band + red_band)\n",
    ")"
   ]
  },
  {
   "attachments": {},
   "cell_type": "markdown",
   "metadata": {},
   "source": [
    "## Plot NDVI"
   ]
  },
  {
   "cell_type": "code",
   "execution_count": null,
   "metadata": {},
   "outputs": [],
   "source": [
    "plt.hist(ndvi.flatten(), bins=100)\n",
    "plt.title('NDVI Histogram')\n",
    "plt.xlabel('NDVI Value')\n",
    "plt.ylabel('Pixel Count')\n",
    "plt.show()\n",
    "fig = plt.gcf()"
   ]
  },
  {
   "attachments": {},
   "cell_type": "markdown",
   "metadata": {},
   "source": [
    "## Publish Analysis to IPFS"
   ]
  },
  {
   "cell_type": "code",
   "execution_count": null,
   "metadata": {},
   "outputs": [],
   "source": [
    "# NDVI NumPy array to IPFS\n",
    "ndvi_resp = subprocess.run([\"ipfs\", \"add\", \"-r\"], input=ndvi, capture_output=True)\n",
    "ndvi_hash = ndvi_resp.stdout.decode().split()[-2]\n",
    "print(f'{ndvi} uploaded to IPFS with hash: {ndvi_hash}')\n",
    "\n",
    "# NDVI plot to IPFS\n",
    "figure_resp = subprocess.run([\"ipfs\", \"add\", \"-r\"], input=fig, capture_output=True)\n",
    "fig_hash = figure_resp.stdout.decode().split()[-2]\n",
    "print(f'{fig} uploaded to IPFS with hash: {fig_hash}')"
   ]
  },
  {
   "attachments": {},
   "cell_type": "markdown",
   "metadata": {},
   "source": [
    "## Retrieve Plot from IPFS"
   ]
  },
  {
   "cell_type": "code",
   "execution_count": null,
   "metadata": {},
   "outputs": [],
   "source": [
    "# Get the IPFS hash of the NDVI plot. Render the plot in the notebook.\n",
    "fig = subprocess.check_output([\"ipfs\", \"cat\", fig_hash])\n",
    "\n",
    "# Render the plot in the notebook\n",
    "Image(fig)"
   ]
  }
 ],
 "metadata": {
  "kernelspec": {
   "display_name": ".venv",
   "language": "python",
   "name": "python3"
  },
  "language_info": {
   "codemirror_mode": {
    "name": "ipython",
    "version": 3
   },
   "file_extension": ".py",
   "mimetype": "text/x-python",
   "name": "python",
   "nbconvert_exporter": "python",
   "pygments_lexer": "ipython3",
   "version": "3.11.2"
  },
  "orig_nbformat": 4
 },
 "nbformat": 4,
 "nbformat_minor": 2
}

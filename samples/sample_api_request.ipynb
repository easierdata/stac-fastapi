catalog = Client.open("https://planetarycomputer.microsoft.com/api/stac/v1")
time_range = "2020-06-01/2020-07-31"
bbox = [-76.964657,38.978967,-76.928008,39.002783]

search = catalog.search(collections=["landsat-8-c2-l2"],
bbox=bbox, 
datetime=time_range,
query={"eo:cloud_cover": {"lt": 20}})

items = search.get_all_items() # Returns pystac.item_collection.ItemCollection
len(items)
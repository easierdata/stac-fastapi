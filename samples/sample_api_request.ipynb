{
 "cells": [
  {
   "attachments": {},
   "cell_type": "markdown",
   "metadata": {},
   "source": [
    "## Imports"
   ]
  },
  {
   "cell_type": "code",
   "execution_count": null,
   "metadata": {},
   "outputs": [],
   "source": [
    "from pystac_client import Client"
   ]
  },
  {
   "attachments": {},
   "cell_type": "markdown",
   "metadata": {},
   "source": [
    "## Fetch Landsat Scenes from the D.C. area"
   ]
  },
  {
   "cell_type": "code",
   "execution_count": null,
   "metadata": {},
   "outputs": [],
   "source": [
    "catalog = Client.open(\"https://ec2-54-172-212-55.compute-1.amazonaws.com/api/v1/pgstac/\")\n",
    "bbox = [-77.119759, 38.791645, -76.909393, 38.995845]\n",
    "\n",
    "search = catalog.search(collections=[\"landsat-c2l1\"], bbox=bbox)\n",
    "\n",
    "items = search.get_all_items()\n",
    "len(items)"
   ]
  }
 ],
 "metadata": {
  "language_info": {
   "name": "python"
  },
  "orig_nbformat": 4
 },
 "nbformat": 4,
 "nbformat_minor": 2
}

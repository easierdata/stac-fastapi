{
 "cells": [
  {
   "attachments": {},
   "cell_type": "markdown",
   "metadata": {},
   "source": [
    "## Imports\n"
   ]
  },
  {
   "cell_type": "code",
   "execution_count": 2,
   "metadata": {},
   "outputs": [],
   "source": [
    "import ipfshttpclient\n",
    "import numpy as np\n",
    "from pystac_client import Client\n",
    "import rasterio\n",
    "from rasterio.io import MemoryFile\n",
    "import matplotlib.pyplot as plt\n",
    "\n",
    "# Define IPFS client\n",
    "client = ipfshttpclient.connect()"
   ]
  },
  {
   "attachments": {},
   "cell_type": "markdown",
   "metadata": {},
   "source": [
    "## Fetch Landsat Scene from Washington D.C. Area\n"
   ]
  },
  {
   "cell_type": "code",
   "execution_count": 4,
   "metadata": {},
   "outputs": [
    {
     "data": {
      "text/plain": [
       "1"
      ]
     },
     "execution_count": 4,
     "metadata": {},
     "output_type": "execute_result"
    }
   ],
   "source": [
    "# Connect to STAC API and search for Landsat 9 imagery\n",
    "catalog = Client.open(\"http://ec2-54-172-212-55.compute-1.amazonaws.com/api/v1/pgstac/\")\n",
    "bbox = [-76.964657, 38.978967, -76.928008, 39.002783]\n",
    "\n",
    "search = catalog.search(\n",
    "    collections=[\"landsat-c2l1\"],\n",
    "    bbox=bbox,\n",
    ")\n",
    "\n",
    "item = search.first()\n"
   ]
  },
  {
   "attachments": {},
   "cell_type": "markdown",
   "metadata": {},
   "source": [
    "## Fetch bands 4 and 5 from the scene"
   ]
  },
  {
   "cell_type": "code",
   "execution_count": 12,
   "metadata": {},
   "outputs": [
    {
     "name": "stdout",
     "output_type": "stream",
     "text": [
      "<Asset href=https://landsatlook.usgs.gov/data/collection02/level-1/standard/oli-tirs/2022/015/033/LC09_L1TP_015033_20221015_20221015_02_T1/LC09_L1TP_015033_20221015_20221015_02_T1_B4.TIF>\n"
     ]
    }
   ],
   "source": [
    "# Get red and NIR band assets and access alternate keys\n",
    "red_band_cid = item.assets[\"B4\"].extra_fields[\"alternate\"][\"IPFS\"][\"href\"]\n",
    "nir_band_cid = item.assets[\"B5\"].extra_fields[\"alternate\"][\"IPFS\"][\"href\"]\n"
   ]
  },
  {
   "attachments": {},
   "cell_type": "markdown",
   "metadata": {},
   "source": [
    "## Download the bands from IPFS and pull them into memory"
   ]
  },
  {
   "cell_type": "code",
   "execution_count": null,
   "metadata": {},
   "outputs": [],
   "source": [
    "# Download the bands from IPFS\n",
    "def download_band(cid):\n",
    "    stream = client.cat(cid)\n",
    "    return np.asarray(stream)\n",
    "\n",
    "red_band_stream = download_band(red_band_cid)\n",
    "nir_band_stream = download_band(nir_band_cid)\n",
    "\n",
    "# Read bands into numpy arrays using rasterio\n",
    "with MemoryFile(red_band_stream) as memfile:\n",
    "    with memfile.open() as src:\n",
    "        red_band = src.read(1)\n",
    "\n",
    "with MemoryFile(nir_band_stream) as memfile:\n",
    "    with memfile.open() as src:\n",
    "        nir_band = src.read(1)"
   ]
  },
  {
   "attachments": {},
   "cell_type": "markdown",
   "metadata": {},
   "source": [
    "## Calculate NDVI"
   ]
  },
  {
   "cell_type": "code",
   "execution_count": null,
   "metadata": {},
   "outputs": [],
   "source": [
    "# Calculate NDVI\n",
    "ndvi = np.where(\n",
    "    (nir_band + red_band) == 0., # Avoid divide by zero errors\n",
    "    0,\n",
    "    (nir_band - red_band) / (nir_band + red_band)\n",
    ")"
   ]
  },
  {
   "attachments": {},
   "cell_type": "markdown",
   "metadata": {},
   "source": [
    "## Plot NDVI"
   ]
  },
  {
   "cell_type": "code",
   "execution_count": null,
   "metadata": {},
   "outputs": [],
   "source": [
    "# Plot NDVI histogram\n",
    "plt.hist(ndvi.flatten(), bins=100)\n",
    "plt.title('NDVI Histogram')\n",
    "plt.xlabel('NDVI Value')\n",
    "plt.ylabel('Pixel Count')\n",
    "plt.show()"
   ]
  }
 ],
 "metadata": {
  "kernelspec": {
   "display_name": ".venv",
   "language": "python",
   "name": "python3"
  },
  "language_info": {
   "codemirror_mode": {
    "name": "ipython",
    "version": 3
   },
   "file_extension": ".py",
   "mimetype": "text/x-python",
   "name": "python",
   "nbconvert_exporter": "python",
   "pygments_lexer": "ipython3",
   "version": "3.11.2"
  },
  "orig_nbformat": 4
 },
 "nbformat": 4,
 "nbformat_minor": 2
}

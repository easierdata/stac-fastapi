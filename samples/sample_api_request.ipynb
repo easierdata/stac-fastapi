{
 "cells": [
  {
   "attachments": {},
   "cell_type": "markdown",
   "metadata": {},
   "source": [
    "## Imports"
   ]
  },
  {
   "cell_type": "code",
   "execution_count": 6,
   "metadata": {},
   "outputs": [],
   "source": [
    "from pystac_client import Client"
   ]
  },
  {
   "attachments": {},
   "cell_type": "markdown",
   "metadata": {},
   "source": [
    "## Fetch Landsat Scene from Washington D.C. Area"
   ]
  },
  {
   "cell_type": "code",
   "execution_count": 7,
   "metadata": {},
   "outputs": [
    {
     "ename": "APIError",
     "evalue": "<html>\r\n<head><title>500 Internal Server Error</title></head>\r\n<body>\r\n<center><h1>500 Internal Server Error</h1></center>\r\n<hr><center>nginx/1.23.3</center>\r\n</body>\r\n</html>\r\n",
     "output_type": "error",
     "traceback": [
      "\u001b[0;31m---------------------------------------------------------------------------\u001b[0m",
      "\u001b[0;31mAPIError\u001b[0m                                  Traceback (most recent call last)",
      "Cell \u001b[0;32mIn[7], line 1\u001b[0m\n\u001b[0;32m----> 1\u001b[0m catalog \u001b[39m=\u001b[39m Client\u001b[39m.\u001b[39;49mopen(\u001b[39m\"\u001b[39;49m\u001b[39mhttp://ec2-54-172-212-55.compute-1.amazonaws.com/api/v1/pgstac\u001b[39;49m\u001b[39m\"\u001b[39;49m)\n\u001b[1;32m      2\u001b[0m time_range \u001b[39m=\u001b[39m \u001b[39m\"\u001b[39m\u001b[39m2020-06-01/2020-07-31\u001b[39m\u001b[39m\"\u001b[39m\n\u001b[1;32m      3\u001b[0m bbox \u001b[39m=\u001b[39m [\u001b[39m-\u001b[39m\u001b[39m76.964657\u001b[39m, \u001b[39m38.978967\u001b[39m, \u001b[39m-\u001b[39m\u001b[39m76.928008\u001b[39m, \u001b[39m39.002783\u001b[39m]\n",
      "File \u001b[0;32m~/Documents/code/stac-fastapi/samples/venv/lib/python3.11/site-packages/pystac_client/client.py:143\u001b[0m, in \u001b[0;36mClient.open\u001b[0;34m(cls, url, headers, parameters, ignore_conformance, modifier, request_modifier, stac_io)\u001b[0m\n\u001b[1;32m     80\u001b[0m \u001b[39m@classmethod\u001b[39m\n\u001b[1;32m     81\u001b[0m \u001b[39mdef\u001b[39;00m \u001b[39mopen\u001b[39m(\n\u001b[1;32m     82\u001b[0m     \u001b[39mcls\u001b[39m,\n\u001b[0;32m   (...)\u001b[0m\n\u001b[1;32m     89\u001b[0m     stac_io: Optional[StacApiIO] \u001b[39m=\u001b[39m \u001b[39mNone\u001b[39;00m,\n\u001b[1;32m     90\u001b[0m ) \u001b[39m-\u001b[39m\u001b[39m>\u001b[39m \u001b[39m\"\u001b[39m\u001b[39mClient\u001b[39m\u001b[39m\"\u001b[39m:\n\u001b[1;32m     91\u001b[0m \u001b[39m    \u001b[39m\u001b[39m\"\"\"Opens a STAC Catalog or API\u001b[39;00m\n\u001b[1;32m     92\u001b[0m \u001b[39m    This function will read the root catalog of a STAC Catalog or API\u001b[39;00m\n\u001b[1;32m     93\u001b[0m \n\u001b[0;32m   (...)\u001b[0m\n\u001b[1;32m    141\u001b[0m \u001b[39m        catalog : A :class:`Client` instance for this Catalog/API\u001b[39;00m\n\u001b[1;32m    142\u001b[0m \u001b[39m    \"\"\"\u001b[39;00m\n\u001b[0;32m--> 143\u001b[0m     client: Client \u001b[39m=\u001b[39m \u001b[39mcls\u001b[39;49m\u001b[39m.\u001b[39;49mfrom_file(\n\u001b[1;32m    144\u001b[0m         url,\n\u001b[1;32m    145\u001b[0m         headers\u001b[39m=\u001b[39;49mheaders,\n\u001b[1;32m    146\u001b[0m         parameters\u001b[39m=\u001b[39;49mparameters,\n\u001b[1;32m    147\u001b[0m         modifier\u001b[39m=\u001b[39;49mmodifier,\n\u001b[1;32m    148\u001b[0m         request_modifier\u001b[39m=\u001b[39;49mrequest_modifier,\n\u001b[1;32m    149\u001b[0m         stac_io\u001b[39m=\u001b[39;49mstac_io,\n\u001b[1;32m    150\u001b[0m     )\n\u001b[1;32m    151\u001b[0m     search_link \u001b[39m=\u001b[39m client\u001b[39m.\u001b[39mget_search_link()\n\u001b[1;32m    152\u001b[0m     \u001b[39m# if there is a search link, but no conformsTo advertised, ignore\u001b[39;00m\n\u001b[1;32m    153\u001b[0m     \u001b[39m# conformance entirely\u001b[39;00m\n\u001b[1;32m    154\u001b[0m     \u001b[39m# NOTE: this behavior to be deprecated as implementations become conformant\u001b[39;00m\n",
      "File \u001b[0;32m~/Documents/code/stac-fastapi/samples/venv/lib/python3.11/site-packages/pystac_client/client.py:197\u001b[0m, in \u001b[0;36mClient.from_file\u001b[0;34m(cls, href, stac_io, headers, parameters, modifier, request_modifier)\u001b[0m\n\u001b[1;32m    190\u001b[0m \u001b[39melse\u001b[39;00m:\n\u001b[1;32m    191\u001b[0m     stac_io\u001b[39m.\u001b[39mupdate(\n\u001b[1;32m    192\u001b[0m         headers\u001b[39m=\u001b[39mheaders,\n\u001b[1;32m    193\u001b[0m         parameters\u001b[39m=\u001b[39mparameters,\n\u001b[1;32m    194\u001b[0m         request_modifier\u001b[39m=\u001b[39mrequest_modifier,\n\u001b[1;32m    195\u001b[0m     )\n\u001b[0;32m--> 197\u001b[0m client: Client \u001b[39m=\u001b[39m \u001b[39msuper\u001b[39;49m()\u001b[39m.\u001b[39;49mfrom_file(href, stac_io)\n\u001b[1;32m    199\u001b[0m client\u001b[39m.\u001b[39m_stac_io\u001b[39m.\u001b[39m_conformance \u001b[39m=\u001b[39m client\u001b[39m.\u001b[39mextra_fields\u001b[39m.\u001b[39mget(  \u001b[39m# type: ignore\u001b[39;00m\n\u001b[1;32m    200\u001b[0m     \u001b[39m\"\u001b[39m\u001b[39mconformsTo\u001b[39m\u001b[39m\"\u001b[39m, []\n\u001b[1;32m    201\u001b[0m )\n\u001b[1;32m    202\u001b[0m client\u001b[39m.\u001b[39mmodifier \u001b[39m=\u001b[39m modifier\n",
      "File \u001b[0;32m~/Documents/code/stac-fastapi/samples/venv/lib/python3.11/site-packages/pystac/catalog.py:1127\u001b[0m, in \u001b[0;36mCatalog.from_file\u001b[0;34m(cls, href, stac_io)\u001b[0m\n\u001b[1;32m   1124\u001b[0m \u001b[39mif\u001b[39;00m stac_io \u001b[39mis\u001b[39;00m \u001b[39mNone\u001b[39;00m:\n\u001b[1;32m   1125\u001b[0m     stac_io \u001b[39m=\u001b[39m pystac\u001b[39m.\u001b[39mStacIO\u001b[39m.\u001b[39mdefault()\n\u001b[0;32m-> 1127\u001b[0m result \u001b[39m=\u001b[39m \u001b[39msuper\u001b[39;49m()\u001b[39m.\u001b[39;49mfrom_file(href, stac_io)\n\u001b[1;32m   1128\u001b[0m \u001b[39mif\u001b[39;00m \u001b[39mnot\u001b[39;00m \u001b[39misinstance\u001b[39m(result, Catalog):\n\u001b[1;32m   1129\u001b[0m     \u001b[39mraise\u001b[39;00m pystac\u001b[39m.\u001b[39mSTACTypeError(\u001b[39mf\u001b[39m\u001b[39m\"\u001b[39m\u001b[39m{\u001b[39;00mresult\u001b[39m}\u001b[39;00m\u001b[39m is not a \u001b[39m\u001b[39m{\u001b[39;00mCatalog\u001b[39m}\u001b[39;00m\u001b[39m.\u001b[39m\u001b[39m\"\u001b[39m)\n",
      "File \u001b[0;32m~/Documents/code/stac-fastapi/samples/venv/lib/python3.11/site-packages/pystac/stac_object.py:562\u001b[0m, in \u001b[0;36mSTACObject.from_file\u001b[0;34m(cls, href, stac_io)\u001b[0m\n\u001b[1;32m    559\u001b[0m \u001b[39mif\u001b[39;00m \u001b[39mnot\u001b[39;00m is_absolute_href(href):\n\u001b[1;32m    560\u001b[0m     href \u001b[39m=\u001b[39m make_absolute_href(href)\n\u001b[0;32m--> 562\u001b[0m d \u001b[39m=\u001b[39m stac_io\u001b[39m.\u001b[39;49mread_json(href)\n\u001b[1;32m    563\u001b[0m o \u001b[39m=\u001b[39m \u001b[39mcls\u001b[39m\u001b[39m.\u001b[39mfrom_dict(d, href\u001b[39m=\u001b[39mhref, migrate\u001b[39m=\u001b[39m\u001b[39mTrue\u001b[39;00m, preserve_dict\u001b[39m=\u001b[39m\u001b[39mFalse\u001b[39;00m)\n\u001b[1;32m    565\u001b[0m \u001b[39m# Set the self HREF, if it's not already set to something else.\u001b[39;00m\n",
      "File \u001b[0;32m~/Documents/code/stac-fastapi/samples/venv/lib/python3.11/site-packages/pystac/stac_io.py:202\u001b[0m, in \u001b[0;36mStacIO.read_json\u001b[0;34m(self, source, *args, **kwargs)\u001b[0m\n\u001b[1;32m    185\u001b[0m \u001b[39mdef\u001b[39;00m \u001b[39mread_json\u001b[39m(\u001b[39mself\u001b[39m, source: HREF, \u001b[39m*\u001b[39margs: Any, \u001b[39m*\u001b[39m\u001b[39m*\u001b[39mkwargs: Any) \u001b[39m-\u001b[39m\u001b[39m>\u001b[39m Dict[\u001b[39mstr\u001b[39m, Any]:\n\u001b[1;32m    186\u001b[0m \u001b[39m    \u001b[39m\u001b[39m\"\"\"Read a dict from the given source.\u001b[39;00m\n\u001b[1;32m    187\u001b[0m \n\u001b[1;32m    188\u001b[0m \u001b[39m    See :func:`StacIO.read_text <pystac.StacIO.read_text>` for usage of\u001b[39;00m\n\u001b[0;32m   (...)\u001b[0m\n\u001b[1;32m    200\u001b[0m \u001b[39m        given source.\u001b[39;00m\n\u001b[1;32m    201\u001b[0m \u001b[39m    \"\"\"\u001b[39;00m\n\u001b[0;32m--> 202\u001b[0m     txt \u001b[39m=\u001b[39m \u001b[39mself\u001b[39;49m\u001b[39m.\u001b[39;49mread_text(source, \u001b[39m*\u001b[39;49margs, \u001b[39m*\u001b[39;49m\u001b[39m*\u001b[39;49mkwargs)\n\u001b[1;32m    203\u001b[0m     \u001b[39mreturn\u001b[39;00m \u001b[39mself\u001b[39m\u001b[39m.\u001b[39mjson_loads(txt)\n",
      "File \u001b[0;32m~/Documents/code/stac-fastapi/samples/venv/lib/python3.11/site-packages/pystac_client/stac_api_io.py:123\u001b[0m, in \u001b[0;36mStacApiIO.read_text\u001b[0;34m(self, source, *args, **kwargs)\u001b[0m\n\u001b[1;32m    121\u001b[0m href \u001b[39m=\u001b[39m \u001b[39mstr\u001b[39m(source)\n\u001b[1;32m    122\u001b[0m \u001b[39mif\u001b[39;00m _is_url(href):\n\u001b[0;32m--> 123\u001b[0m     \u001b[39mreturn\u001b[39;00m \u001b[39mself\u001b[39;49m\u001b[39m.\u001b[39;49mrequest(href, \u001b[39m*\u001b[39;49margs, \u001b[39m*\u001b[39;49m\u001b[39m*\u001b[39;49mkwargs)\n\u001b[1;32m    124\u001b[0m \u001b[39melse\u001b[39;00m:\n\u001b[1;32m    125\u001b[0m     \u001b[39mwith\u001b[39;00m \u001b[39mopen\u001b[39m(href) \u001b[39mas\u001b[39;00m f:\n",
      "File \u001b[0;32m~/Documents/code/stac-fastapi/samples/venv/lib/python3.11/site-packages/pystac_client/stac_api_io.py:171\u001b[0m, in \u001b[0;36mStacApiIO.request\u001b[0;34m(self, href, method, headers, parameters)\u001b[0m\n\u001b[1;32m    169\u001b[0m     \u001b[39mraise\u001b[39;00m APIError(\u001b[39mstr\u001b[39m(err))\n\u001b[1;32m    170\u001b[0m \u001b[39mif\u001b[39;00m resp\u001b[39m.\u001b[39mstatus_code \u001b[39m!=\u001b[39m \u001b[39m200\u001b[39m:\n\u001b[0;32m--> 171\u001b[0m     \u001b[39mraise\u001b[39;00m APIError\u001b[39m.\u001b[39mfrom_response(resp)\n\u001b[1;32m    172\u001b[0m \u001b[39mtry\u001b[39;00m:\n\u001b[1;32m    173\u001b[0m     \u001b[39mreturn\u001b[39;00m resp\u001b[39m.\u001b[39mcontent\u001b[39m.\u001b[39mdecode(\u001b[39m\"\u001b[39m\u001b[39mutf-8\u001b[39m\u001b[39m\"\u001b[39m)\n",
      "\u001b[0;31mAPIError\u001b[0m: <html>\r\n<head><title>500 Internal Server Error</title></head>\r\n<body>\r\n<center><h1>500 Internal Server Error</h1></center>\r\n<hr><center>nginx/1.23.3</center>\r\n</body>\r\n</html>\r\n"
     ]
    }
   ],
   "source": [
    "catalog = Client.open(\"http://ec2-54-172-212-55.compute-1.amazonaws.com/api/v1/pgstac\")\n",
    "time_range = \"2020-06-01/2020-07-31\"\n",
    "bbox = [-76.964657, 38.978967, -76.928008, 39.002783]\n",
    "\n",
    "search = catalog.search(\n",
    "    collections=[\"landsat-8-c2-l2\"],\n",
    "    bbox=bbox,\n",
    "    datetime=time_range,\n",
    "    query={\"eo:cloud_cover\": {\"lt\": 20}},\n",
    ")\n",
    "\n",
    "items = search.get_all_items()  # Returns pystac.item_collection.ItemCollection\n",
    "len(items)"
   ]
  }
 ],
 "metadata": {
  "kernelspec": {
   "display_name": ".venv",
   "language": "python",
   "name": "python3"
  },
  "language_info": {
   "codemirror_mode": {
    "name": "ipython",
    "version": 3
   },
   "file_extension": ".py",
   "mimetype": "text/x-python",
   "name": "python",
   "nbconvert_exporter": "python",
   "pygments_lexer": "ipython3",
   "version": "3.11.2"
  },
  "orig_nbformat": 4
 },
 "nbformat": 4,
 "nbformat_minor": 2
}

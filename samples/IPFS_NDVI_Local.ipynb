{
 "cells": [
  {
   "attachments": {},
   "cell_type": "markdown",
   "metadata": {},
   "source": [
    "## Imports\n"
   ]
  },
  {
   "cell_type": "code",
   "execution_count": 4,
   "metadata": {},
   "outputs": [],
   "source": [
    "import numpy as np\n",
    "from pystac_client import Client\n",
    "import rasterio\n",
    "import subprocess\n",
    "from IPython.display import Image\n",
    "import matplotlib.pyplot as plt"
   ]
  },
  {
   "attachments": {},
   "cell_type": "markdown",
   "metadata": {},
   "source": [
    "## Fetch Landsat Scene from Washington D.C. Area\n"
   ]
  },
  {
   "cell_type": "code",
   "execution_count": 5,
   "metadata": {},
   "outputs": [
    {
     "data": {
      "text/plain": [
       "1"
      ]
     },
     "execution_count": 5,
     "metadata": {},
     "output_type": "execute_result"
    }
   ],
   "source": [
    "# Connect to STAC API and search for Landsat 9 imagery\n",
    "catalog = Client.open(\"http://ec2-54-172-212-55.compute-1.amazonaws.com/api/v1/pgstac/\")\n",
    "bbox = [-76.964657, 38.978967, -76.928008, 39.002783]\n",
    "\n",
    "search = catalog.search(\n",
    "    collections=[\"landsat-c2l1\"],\n",
    "    bbox=bbox,\n",
    ")\n",
    "\n",
    "items = search.get_all_items()\n",
    "len(items)"
   ]
  },
  {
   "attachments": {},
   "cell_type": "markdown",
   "metadata": {},
   "source": [
    "## Fetch bands 4 and 5 from the scene"
   ]
  },
  {
   "cell_type": "code",
   "execution_count": 6,
   "metadata": {},
   "outputs": [
    {
     "name": "stdout",
     "output_type": "stream",
     "text": [
      "Red band CID: QmTgttqUf7PvZgdSoe71j3njeEKk1hC3h22n2sQmety3To\n",
      "NIR band CID: QmZkWaKSuVhFKtAwNbxSogcT6hXHMksXjhgqLu6AXHSUKq\n"
     ]
    }
   ],
   "source": [
    "item = items[0]\n",
    "# Get red and NIR band assets and access alternate keys\n",
    "red_band_cid = item.assets[\"red\"].extra_fields[\"alternate\"][\"IPFS\"][\"href\"].split(\"/\")[-1]\n",
    "nir_band_cid = item.assets[\"nir08\"].extra_fields[\"alternate\"][\"IPFS\"][\"href\"].split(\"/\")[-1]\n",
    "\n",
    "print(f\"Red band CID: {red_band_cid}\")\n",
    "print(f\"NIR band CID: {nir_band_cid}\")"
   ]
  },
  {
   "attachments": {},
   "cell_type": "markdown",
   "metadata": {},
   "source": [
    "## Helper Functions"
   ]
  },
  {
   "cell_type": "code",
   "execution_count": 7,
   "metadata": {},
   "outputs": [],
   "source": [
    "def load_raster(path) -> np.ndarray:\n",
    "    with rasterio.open(path) as src:\n",
    "        return src.read(1)"
   ]
  },
  {
   "attachments": {},
   "cell_type": "markdown",
   "metadata": {},
   "source": [
    "## Download the bands from IPFS and pull them into memory"
   ]
  },
  {
   "cell_type": "code",
   "execution_count": null,
   "metadata": {},
   "outputs": [],
   "source": [
    "# Load bands from IPFS into memory\n",
    "red_band = subprocess.check_output([\"ipfs\", \"cat\", red_band_cid])\n",
    "nir_band = subprocess.check_output([\"ipfs\", \"cat\", nir_band_cid])"
   ]
  },
  {
   "attachments": {},
   "cell_type": "markdown",
   "metadata": {},
   "source": [
    "## Load the bands into a numpy array"
   ]
  },
  {
   "cell_type": "code",
   "execution_count": null,
   "metadata": {},
   "outputs": [],
   "source": [
    "red_band = load_raster(red_band)\n",
    "nir_band = load_raster(nir_band)"
   ]
  },
  {
   "attachments": {},
   "cell_type": "markdown",
   "metadata": {},
   "source": [
    "## Calculate NDVI"
   ]
  },
  {
   "cell_type": "code",
   "execution_count": null,
   "metadata": {},
   "outputs": [],
   "source": [
    "# Calculate NDVI\n",
    "ndvi = np.where(\n",
    "    (nir_band + red_band) == 0., # Avoid divide by zero errors\n",
    "    0,\n",
    "    (nir_band - red_band) / (nir_band + red_band)\n",
    ")"
   ]
  },
  {
   "attachments": {},
   "cell_type": "markdown",
   "metadata": {},
   "source": [
    "## Plot NDVI"
   ]
  },
  {
   "cell_type": "code",
   "execution_count": null,
   "metadata": {},
   "outputs": [],
   "source": [
    "plt.hist(ndvi.flatten(), bins=100)\n",
    "plt.title('NDVI Histogram')\n",
    "plt.xlabel('NDVI Value')\n",
    "plt.ylabel('Pixel Count')\n",
    "plt.show()\n",
    "fig = plt.gcf()"
   ]
  },
  {
   "attachments": {},
   "cell_type": "markdown",
   "metadata": {},
   "source": [
    "## Publish Analysis to IPFS"
   ]
  },
  {
   "cell_type": "code",
   "execution_count": null,
   "metadata": {},
   "outputs": [],
   "source": [
    "# NDVI NumPy array to IPFS\n",
    "ndvi_resp = subprocess.run([\"ipfs\", \"add\", \"-r\"], input=ndvi, capture_output=True)\n",
    "ndvi_hash = ndvi_resp.stdout.decode().split()[-2]\n",
    "print(f'{ndvi} uploaded to IPFS with hash: {ndvi_hash}')\n",
    "\n",
    "# NDVI plot to IPFS\n",
    "figure_resp = subprocess.run([\"ipfs\", \"add\", \"-r\"], input=fig, capture_output=True)\n",
    "fig_hash = figure_resp.stdout.decode().split()[-2]\n",
    "print(f'{fig} uploaded to IPFS with hash: {fig_hash}')"
   ]
  },
  {
   "attachments": {},
   "cell_type": "markdown",
   "metadata": {},
   "source": [
    "## Retrieve Plot from IPFS"
   ]
  },
  {
   "cell_type": "code",
   "execution_count": null,
   "metadata": {},
   "outputs": [],
   "source": [
    "# Get the IPFS hash of the NDVI plot. Render the plot in the notebook.\n",
    "fig = subprocess.check_output([\"ipfs\", \"cat\", fig_hash])\n",
    "\n",
    "# Render the plot in the notebook\n",
    "Image(fig)"
   ]
  }
 ],
 "metadata": {
  "kernelspec": {
   "display_name": ".venv",
   "language": "python",
   "name": "python3"
  },
  "language_info": {
   "codemirror_mode": {
    "name": "ipython",
    "version": 3
   },
   "file_extension": ".py",
   "mimetype": "text/x-python",
   "name": "python",
   "nbconvert_exporter": "python",
   "pygments_lexer": "ipython3",
   "version": "3.11.2"
  },
  "orig_nbformat": 4
 },
 "nbformat": 4,
 "nbformat_minor": 2
}
